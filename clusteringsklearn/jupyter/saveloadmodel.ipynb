{
 "cells": [
  {
   "cell_type": "markdown",
   "id": "cd2f2387",
   "metadata": {},
   "source": [
    "# Simulació parking: descoberta de patrons amb clustering\n",
    "# Guardar el model /Carregar el model / Predicció de nous valors"
   ]
  },
  {
   "cell_type": "code",
   "execution_count": 1,
   "id": "225f4001",
   "metadata": {},
   "outputs": [],
   "source": [
    "import pandas as pd"
   ]
  },
  {
   "cell_type": "markdown",
   "id": "77ed5f9b",
   "metadata": {},
   "source": [
    "### Carreguem el dataset"
   ]
  },
  {
   "cell_type": "code",
   "execution_count": 2,
   "id": "0fd8184d",
   "metadata": {},
   "outputs": [],
   "source": [
    "path_to_file = 'data/registre_durada.csv'\n",
    "parking_data = pd.read_csv(path_to_file, delimiter=';')"
   ]
  },
  {
   "cell_type": "markdown",
   "id": "0c87fe91",
   "metadata": {},
   "source": [
    "### Manipulació de les dades"
   ]
  },
  {
   "cell_type": "code",
   "execution_count": 3,
   "id": "5b390801",
   "metadata": {},
   "outputs": [
    {
     "data": {
      "text/html": [
       "<div>\n",
       "<style scoped>\n",
       "    .dataframe tbody tr th:only-of-type {\n",
       "        vertical-align: middle;\n",
       "    }\n",
       "\n",
       "    .dataframe tbody tr th {\n",
       "        vertical-align: top;\n",
       "    }\n",
       "\n",
       "    .dataframe thead th {\n",
       "        text-align: right;\n",
       "    }\n",
       "</style>\n",
       "<table border=\"1\" class=\"dataframe\">\n",
       "  <thead>\n",
       "    <tr style=\"text-align: right;\">\n",
       "      <th></th>\n",
       "      <th>matricula</th>\n",
       "      <th>durada</th>\n",
       "      <th>hora</th>\n",
       "      <th>dia_setmana_dec</th>\n",
       "    </tr>\n",
       "  </thead>\n",
       "  <tbody>\n",
       "    <tr>\n",
       "      <th>0</th>\n",
       "      <td>9067 SAG</td>\n",
       "      <td>13375</td>\n",
       "      <td>22.3</td>\n",
       "      <td>5.9</td>\n",
       "    </tr>\n",
       "    <tr>\n",
       "      <th>1</th>\n",
       "      <td>9067 SAG</td>\n",
       "      <td>10769</td>\n",
       "      <td>19.5</td>\n",
       "      <td>6.8</td>\n",
       "    </tr>\n",
       "    <tr>\n",
       "      <th>2</th>\n",
       "      <td>9067 SAG</td>\n",
       "      <td>8207</td>\n",
       "      <td>21.6</td>\n",
       "      <td>5.9</td>\n",
       "    </tr>\n",
       "  </tbody>\n",
       "</table>\n",
       "</div>"
      ],
      "text/plain": [
       "  matricula  durada  hora  dia_setmana_dec\n",
       "0  9067 SAG   13375  22.3              5.9\n",
       "1  9067 SAG   10769  19.5              6.8\n",
       "2  9067 SAG    8207  21.6              5.9"
      ]
     },
     "execution_count": 3,
     "metadata": {},
     "output_type": "execute_result"
    }
   ],
   "source": [
    "parking_data = parking_data.drop('dia_hora', axis=1)\n",
    "parking_data = parking_data.drop('dia_setmana', axis=1)\n",
    "parking_data = parking_data.drop('tipus', axis=1)\n",
    "parking_data[:3]"
   ]
  },
  {
   "cell_type": "code",
   "execution_count": 4,
   "id": "2f44cc81",
   "metadata": {
    "scrolled": true
   },
   "outputs": [
    {
     "data": {
      "text/html": [
       "<div>\n",
       "<style scoped>\n",
       "    .dataframe tbody tr th:only-of-type {\n",
       "        vertical-align: middle;\n",
       "    }\n",
       "\n",
       "    .dataframe tbody tr th {\n",
       "        vertical-align: top;\n",
       "    }\n",
       "\n",
       "    .dataframe thead th {\n",
       "        text-align: right;\n",
       "    }\n",
       "</style>\n",
       "<table border=\"1\" class=\"dataframe\">\n",
       "  <thead>\n",
       "    <tr style=\"text-align: right;\">\n",
       "      <th></th>\n",
       "      <th>durada</th>\n",
       "      <th>hora</th>\n",
       "      <th>dia_setmana_dec</th>\n",
       "      <th>count</th>\n",
       "    </tr>\n",
       "    <tr>\n",
       "      <th>matricula</th>\n",
       "      <th></th>\n",
       "      <th></th>\n",
       "      <th></th>\n",
       "      <th></th>\n",
       "    </tr>\n",
       "  </thead>\n",
       "  <tbody>\n",
       "    <tr>\n",
       "      <th>0001 DKR</th>\n",
       "      <td>21442.695652</td>\n",
       "      <td>9.053261</td>\n",
       "      <td>2.150000</td>\n",
       "      <td>92</td>\n",
       "    </tr>\n",
       "    <tr>\n",
       "      <th>0007 QNR</th>\n",
       "      <td>11263.631579</td>\n",
       "      <td>10.515789</td>\n",
       "      <td>6.442105</td>\n",
       "      <td>19</td>\n",
       "    </tr>\n",
       "    <tr>\n",
       "      <th>0015 CIQ</th>\n",
       "      <td>7610.200000</td>\n",
       "      <td>14.360000</td>\n",
       "      <td>2.110000</td>\n",
       "      <td>10</td>\n",
       "    </tr>\n",
       "  </tbody>\n",
       "</table>\n",
       "</div>"
      ],
      "text/plain": [
       "                 durada       hora  dia_setmana_dec  count\n",
       "matricula                                                 \n",
       "0001 DKR   21442.695652   9.053261         2.150000     92\n",
       "0007 QNR   11263.631579  10.515789         6.442105     19\n",
       "0015 CIQ    7610.200000  14.360000         2.110000     10"
      ]
     },
     "execution_count": 4,
     "metadata": {},
     "output_type": "execute_result"
    }
   ],
   "source": [
    "parking_data_gb = parking_data.groupby(['matricula']).mean()\n",
    "parking_data_gb = parking_data_gb.merge(parking_data.groupby(['matricula']).count()['durada'], how='inner', on='matricula')\n",
    "parking_data_gb = parking_data_gb.rename(columns={'durada_x': 'durada', 'durada_y': 'count'})\n",
    "parking_data_gb[:3]"
   ]
  },
  {
   "cell_type": "code",
   "execution_count": 5,
   "id": "06ff26d4",
   "metadata": {},
   "outputs": [],
   "source": [
    "from sklearn import preprocessing\n",
    "\n",
    "scaler = preprocessing.StandardScaler().fit(parking_data_gb)\n",
    "parking_data_gb_norm = pd.DataFrame(scaler.transform(parking_data_gb), index=parking_data_gb.index, columns=parking_data_gb.columns)"
   ]
  },
  {
   "cell_type": "code",
   "execution_count": 6,
   "id": "878e3ade",
   "metadata": {
    "scrolled": true
   },
   "outputs": [],
   "source": [
    "from sklearn.cluster import KMeans\n",
    "\n",
    "# Selecting durada, hora, dia_setmana_dec, count\n",
    "selected_data = parking_data_gb_norm.iloc[:, 0:4]"
   ]
  },
  {
   "cell_type": "markdown",
   "id": "761dda8d",
   "metadata": {},
   "source": [
    "### Entrenament del model"
   ]
  },
  {
   "cell_type": "code",
   "execution_count": 7,
   "id": "63acbac7",
   "metadata": {},
   "outputs": [
    {
     "name": "stderr",
     "output_type": "stream",
     "text": [
      "/home/joan/.local/lib/python3.8/site-packages/sklearn/cluster/_kmeans.py:870: FutureWarning: The default value of `n_init` will change from 10 to 'auto' in 1.4. Set the value of `n_init` explicitly to suppress the warning\n",
      "  warnings.warn(\n"
     ]
    },
    {
     "data": {
      "text/html": [
       "<style>#sk-container-id-1 {color: black;background-color: white;}#sk-container-id-1 pre{padding: 0;}#sk-container-id-1 div.sk-toggleable {background-color: white;}#sk-container-id-1 label.sk-toggleable__label {cursor: pointer;display: block;width: 100%;margin-bottom: 0;padding: 0.3em;box-sizing: border-box;text-align: center;}#sk-container-id-1 label.sk-toggleable__label-arrow:before {content: \"▸\";float: left;margin-right: 0.25em;color: #696969;}#sk-container-id-1 label.sk-toggleable__label-arrow:hover:before {color: black;}#sk-container-id-1 div.sk-estimator:hover label.sk-toggleable__label-arrow:before {color: black;}#sk-container-id-1 div.sk-toggleable__content {max-height: 0;max-width: 0;overflow: hidden;text-align: left;background-color: #f0f8ff;}#sk-container-id-1 div.sk-toggleable__content pre {margin: 0.2em;color: black;border-radius: 0.25em;background-color: #f0f8ff;}#sk-container-id-1 input.sk-toggleable__control:checked~div.sk-toggleable__content {max-height: 200px;max-width: 100%;overflow: auto;}#sk-container-id-1 input.sk-toggleable__control:checked~label.sk-toggleable__label-arrow:before {content: \"▾\";}#sk-container-id-1 div.sk-estimator input.sk-toggleable__control:checked~label.sk-toggleable__label {background-color: #d4ebff;}#sk-container-id-1 div.sk-label input.sk-toggleable__control:checked~label.sk-toggleable__label {background-color: #d4ebff;}#sk-container-id-1 input.sk-hidden--visually {border: 0;clip: rect(1px 1px 1px 1px);clip: rect(1px, 1px, 1px, 1px);height: 1px;margin: -1px;overflow: hidden;padding: 0;position: absolute;width: 1px;}#sk-container-id-1 div.sk-estimator {font-family: monospace;background-color: #f0f8ff;border: 1px dotted black;border-radius: 0.25em;box-sizing: border-box;margin-bottom: 0.5em;}#sk-container-id-1 div.sk-estimator:hover {background-color: #d4ebff;}#sk-container-id-1 div.sk-parallel-item::after {content: \"\";width: 100%;border-bottom: 1px solid gray;flex-grow: 1;}#sk-container-id-1 div.sk-label:hover label.sk-toggleable__label {background-color: #d4ebff;}#sk-container-id-1 div.sk-serial::before {content: \"\";position: absolute;border-left: 1px solid gray;box-sizing: border-box;top: 0;bottom: 0;left: 50%;z-index: 0;}#sk-container-id-1 div.sk-serial {display: flex;flex-direction: column;align-items: center;background-color: white;padding-right: 0.2em;padding-left: 0.2em;position: relative;}#sk-container-id-1 div.sk-item {position: relative;z-index: 1;}#sk-container-id-1 div.sk-parallel {display: flex;align-items: stretch;justify-content: center;background-color: white;position: relative;}#sk-container-id-1 div.sk-item::before, #sk-container-id-1 div.sk-parallel-item::before {content: \"\";position: absolute;border-left: 1px solid gray;box-sizing: border-box;top: 0;bottom: 0;left: 50%;z-index: -1;}#sk-container-id-1 div.sk-parallel-item {display: flex;flex-direction: column;z-index: 1;position: relative;background-color: white;}#sk-container-id-1 div.sk-parallel-item:first-child::after {align-self: flex-end;width: 50%;}#sk-container-id-1 div.sk-parallel-item:last-child::after {align-self: flex-start;width: 50%;}#sk-container-id-1 div.sk-parallel-item:only-child::after {width: 0;}#sk-container-id-1 div.sk-dashed-wrapped {border: 1px dashed gray;margin: 0 0.4em 0.5em 0.4em;box-sizing: border-box;padding-bottom: 0.4em;background-color: white;}#sk-container-id-1 div.sk-label label {font-family: monospace;font-weight: bold;display: inline-block;line-height: 1.2em;}#sk-container-id-1 div.sk-label-container {text-align: center;}#sk-container-id-1 div.sk-container {/* jupyter's `normalize.less` sets `[hidden] { display: none; }` but bootstrap.min.css set `[hidden] { display: none !important; }` so we also need the `!important` here to be able to override the default hidden behavior on the sphinx rendered scikit-learn.org. See: https://github.com/scikit-learn/scikit-learn/issues/21755 */display: inline-block !important;position: relative;}#sk-container-id-1 div.sk-text-repr-fallback {display: none;}</style><div id=\"sk-container-id-1\" class=\"sk-top-container\"><div class=\"sk-text-repr-fallback\"><pre>KMeans(n_clusters=4, random_state=42)</pre><b>In a Jupyter environment, please rerun this cell to show the HTML representation or trust the notebook. <br />On GitHub, the HTML representation is unable to render, please try loading this page with nbviewer.org.</b></div><div class=\"sk-container\" hidden><div class=\"sk-item\"><div class=\"sk-estimator sk-toggleable\"><input class=\"sk-toggleable__control sk-hidden--visually\" id=\"sk-estimator-id-1\" type=\"checkbox\" checked><label for=\"sk-estimator-id-1\" class=\"sk-toggleable__label sk-toggleable__label-arrow\">KMeans</label><div class=\"sk-toggleable__content\"><pre>KMeans(n_clusters=4, random_state=42)</pre></div></div></div></div></div>"
      ],
      "text/plain": [
       "KMeans(n_clusters=4, random_state=42)"
      ]
     },
     "execution_count": 7,
     "metadata": {},
     "output_type": "execute_result"
    }
   ],
   "source": [
    "clustering_model = KMeans(n_clusters=4,random_state=42)\n",
    "\n",
    "clustering_model.fit(selected_data)"
   ]
  },
  {
   "cell_type": "markdown",
   "id": "614e41b5",
   "metadata": {},
   "source": [
    "### Visualització"
   ]
  },
  {
   "cell_type": "code",
   "execution_count": 8,
   "id": "e5b58767",
   "metadata": {},
   "outputs": [
    {
     "data": {
      "text/plain": [
       "<Axes: xlabel='hora', ylabel='count'>"
      ]
     },
     "execution_count": 8,
     "metadata": {},
     "output_type": "execute_result"
    },
    {
     "data": {
      "image/png": "[encoded data removed]",
      "text/plain": [
       "<Figure size 640x480 with 1 Axes>"
      ]
     },
     "metadata": {},
     "output_type": "display_data"
    }
   ],
   "source": [
    "import seaborn as sns\n",
    "\n",
    "data_labels = clustering_model.labels_\n",
    "sns.scatterplot(x='hora', \n",
    "                y='count', \n",
    "                data=selected_data, \n",
    "                hue=data_labels,\n",
    "                palette=\"rainbow\")"
   ]
  },
  {
   "cell_type": "markdown",
   "id": "195b9ea0",
   "metadata": {},
   "source": [
    "### Associació dels labels amb els tipus"
   ]
  },
  {
   "cell_type": "code",
   "execution_count": 9,
   "id": "4c0cf0d0",
   "metadata": {},
   "outputs": [
    {
     "name": "stdout",
     "output_type": "stream",
     "text": [
      "[{'name': 'tipus I', 'label': 0}, {'name': 'tipus II', 'label': 1}, {'name': 'tipus III', 'label': 2}, {'name': 'tipus IV', 'label': 3}]\n"
     ]
    }
   ],
   "source": [
    "tipus = [{'name': 'tipus I'}, {'name': 'tipus II'}, {'name': 'tipus III'}, {'name': 'tipus IV'}]\n",
    "dicc = {'durada':0, 'hora': 1, 'dia_setmana_dec': 2, 'count': 3}\n",
    "\n",
    "ind_label_0 = -1\n",
    "ind_label_1 = -1\n",
    "ind_label_2 = -1\n",
    "ind_label_3 = -1\n",
    "\n",
    "val_hora_max = -1\n",
    "val_count_max = -1\n",
    "val_durada_max = -1\n",
    "val_count_min = 1000\n",
    "\n",
    "for i, center in enumerate(clustering_model.cluster_centers_):\n",
    "    \n",
    "    v_hora = round(center[dicc['hora']],1)\n",
    "    v_durada = round(center[dicc['durada']],1)\n",
    "    v_count = round(center[dicc['count']],1)\n",
    "    \n",
    "    if (v_hora) > val_hora_max:\n",
    "        ind_label_0 = i\n",
    "        val_hora_max = v_hora\n",
    "    if (v_count) > val_count_max:\n",
    "        ind_label_2 = i\n",
    "        val_count_max = v_count\n",
    "    if (v_count) < val_count_min:\n",
    "        ind_label_3 = i\n",
    "        val_count_min = v_count\n",
    "    if (v_hora < 0 and v_durada > 0 and v_count < 0):\n",
    "        ind_label_1 = i\n",
    "\n",
    "tipus[0].update({'label': ind_label_0})\n",
    "tipus[1].update({'label': ind_label_1})\n",
    "tipus[2].update({'label': ind_label_2})\n",
    "tipus[3].update({'label': ind_label_3})\n",
    "\n",
    "print(tipus)"
   ]
  },
  {
   "cell_type": "markdown",
   "id": "59668379",
   "metadata": {},
   "source": [
    "### Guardem els models"
   ]
  },
  {
   "cell_type": "code",
   "execution_count": 10,
   "id": "e0e66413",
   "metadata": {},
   "outputs": [],
   "source": [
    "import pickle\n",
    "\n",
    "with open('model/scaler.pkl','wb') as f:\n",
    "    pickle.dump(scaler, f)\n",
    "    \n",
    "with open(\"model/clustering_model.pkl\", \"wb\") as f:\n",
    "    pickle.dump(clustering_model, f)\n",
    "\n",
    "with open(\"model/tipus_dict.pkl\", \"wb\") as f:\n",
    "    pickle.dump(tipus, f)"
   ]
  },
  {
   "cell_type": "markdown",
   "id": "5765de0c",
   "metadata": {},
   "source": [
    "## Predicció de nous valors"
   ]
  },
  {
   "cell_type": "markdown",
   "id": "4e412a24",
   "metadata": {},
   "source": [
    "### Carreguem els models"
   ]
  },
  {
   "cell_type": "code",
   "execution_count": 11,
   "id": "9ad8e39a",
   "metadata": {},
   "outputs": [],
   "source": [
    "with open(\"model/clustering_model.pkl\", \"rb\") as f:\n",
    "    clustering_model_loaded = pickle.load(f)\n",
    "    \n",
    "with open('model/scaler.pkl','rb') as f:\n",
    "    scaler_loaded = pickle.load(f)\n",
    "    \n",
    "with open('model/tipus_dict.pkl','rb') as f:\n",
    "    tipus_loaded = pickle.load(f)"
   ]
  },
  {
   "cell_type": "markdown",
   "id": "076eb214",
   "metadata": {},
   "source": [
    "### Un cotxe de cada tipus"
   ]
  },
  {
   "cell_type": "code",
   "execution_count": 12,
   "id": "2d172a72",
   "metadata": {
    "scrolled": true
   },
   "outputs": [],
   "source": [
    "dades_cotxe = [\n",
    "    # tipus I\n",
    "    ['3560 ROQ', 7197, 21.5, 6 + 21.5/24],\n",
    "    ['3560 ROQ', 4941, 21.1, 5 + 21.1/24],\n",
    "    ['3560 ROQ', 13461, 20.1, 6 + 20.1/24],\n",
    "    ['3560 ROQ', 13818, 19.4, 5 + 19.4/24],\n",
    "    ['3560 ROQ', 11251, 19.9, 6 + 19.9/24],\n",
    "    \n",
    "    # tipus II\n",
    "    ['6897 JWK', 12195, 12.2, 6 + 12.2/24],\n",
    "    ['6897 JWK', 11881, 11.2, 6 + 11.2/24],\n",
    "    ['6897 JWK', 12885, 11.5, 6 + 11.5/24],\n",
    "    ['6897 JWK', 10549, 11.1, 6 + 11.1/24],\n",
    "    ['6897 JWK', 2359, 11.6, 6 + 11.6/24],\n",
    "    \n",
    "    # tipus III\n",
    "    ['1200 ABC', 18264, 7.5, 0 + 7.5/24],\n",
    "    ['1200 ABC', 22436, 7.7, 1 + 7.7/24],\n",
    "    ['1200 ABC', 19223, 8.2, 2 + 8.2/24],\n",
    "    ['1200 ABC', 20256, 9.0, 3 + 9.0/24],\n",
    "    ['1200 ABC', 21345, 7.6, 4 + 7.6/24],\n",
    "    \n",
    "    # tipus IV\n",
    "    ['4030 JQC', 3600, 7.5, 0 + 7.5/24],\n",
    "    ['4030 JQC', 2000, 21.0, 2 + 21.0/24],\n",
    "    ['4030 JQC', 4000, 12.4, 4 + 12.4/24],\n",
    "    ['4030 JQC', 2500, 11.3, 6 + 11.3/24],\n",
    "    ['4030 JQC', 800, 15.0, 2 + 15.0/24]\n",
    "]*2\n",
    "    \n",
    "df_dades_cotxe = pd.DataFrame(columns=['matricula', 'durada', 'hora', 'dia_setmana_dec'], data=dades_cotxe)"
   ]
  },
  {
   "cell_type": "code",
   "execution_count": 13,
   "id": "7a1968cf",
   "metadata": {},
   "outputs": [],
   "source": [
    "df_dades_cotxe_gb = df_dades_cotxe.groupby(['matricula']).mean()\n",
    "df_dades_cotxe_gb = df_dades_cotxe_gb.merge(df_dades_cotxe.groupby(['matricula']).count()['durada'], how='inner', on='matricula')\n",
    "df_dades_cotxe_gb = df_dades_cotxe_gb.rename(columns={'durada_x': 'durada', 'durada_y': 'count'})"
   ]
  },
  {
   "cell_type": "code",
   "execution_count": 14,
   "id": "620320e5",
   "metadata": {},
   "outputs": [],
   "source": [
    "df_dades_cotxe_gb_norm = pd.DataFrame(scaler_loaded.transform(df_dades_cotxe_gb), index=df_dades_cotxe_gb.index, columns=df_dades_cotxe_gb.columns)"
   ]
  },
  {
   "cell_type": "code",
   "execution_count": 15,
   "id": "4cb03008",
   "metadata": {},
   "outputs": [
    {
     "data": {
      "text/plain": [
       "array([2, 0, 3, 1], dtype=int32)"
      ]
     },
     "execution_count": 15,
     "metadata": {},
     "output_type": "execute_result"
    }
   ],
   "source": [
    "nova_prediccio = clustering_model_loaded.predict(df_dades_cotxe_gb_norm)\n",
    "nova_prediccio"
   ]
  },
  {
   "cell_type": "code",
   "execution_count": 16,
   "id": "dad92a6d",
   "metadata": {},
   "outputs": [
    {
     "name": "stdout",
     "output_type": "stream",
     "text": [
      "1200 ABC: label 2: tipus III\n",
      "3560 ROQ: label 0: tipus I\n",
      "4030 JQC: label 3: tipus IV\n",
      "6897 JWK: label 1: tipus II\n"
     ]
    }
   ],
   "source": [
    "for i, pred in enumerate(nova_prediccio):\n",
    "    print('{}: label {}: {}'.format(df_dades_cotxe_gb_norm.index[i], nova_prediccio[i], tipus_loaded[nova_prediccio[i]]['name']))\n",
    "    "
   ]
  }
 ],
 "metadata": {
  "authors": [
   {
    "name": "Joan Quintana"
   }
  ],
  "kernelspec": {
   "display_name": "Python 3 (ipykernel)",
   "language": "python",
   "name": "python3"
  },
  "language_info": {
   "codemirror_mode": {
    "name": "ipython",
    "version": 3
   },
   "file_extension": ".py",
   "mimetype": "text/x-python",
   "name": "python",
   "nbconvert_exporter": "python",
   "pygments_lexer": "ipython3",
   "version": "3.8.10"
  },
  "title": "Simulació parking: save and load model",
  "toc": {
   "base_numbering": 1,
   "nav_menu": {},
   "number_sections": false,
   "sideBar": true,
   "skip_h1_title": false,
   "title_cell": "Table of Contents",
   "title_sidebar": "Contents",
   "toc_cell": false,
   "toc_position": {},
   "toc_section_display": true,
   "toc_window_display": false
  },
  "varInspector": {
   "cols": {
    "lenName": 16,
    "lenType": 16,
    "lenVar": 40
   },
   "kernels_config": {
    "python": {
     "delete_cmd_postfix": "",
     "delete_cmd_prefix": "del ",
     "library": "var_list.py",
     "varRefreshCmd": "print(var_dic_list())"
    },
    "r": {
     "delete_cmd_postfix": ") ",
     "delete_cmd_prefix": "rm(",
     "library": "var_list.r",
     "varRefreshCmd": "cat(var_dic_list()) "
    }
   },
   "types_to_exclude": [
    "module",
    "function",
    "builtin_function_or_method",
    "instance",
    "_Feature"
   ],
   "window_display": false
  }
 },
 "nbformat": 4,
 "nbformat_minor": 5
}
